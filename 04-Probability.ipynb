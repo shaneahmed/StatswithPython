{
  "nbformat": 4,
  "nbformat_minor": 0,
  "metadata": {
    "kernelspec": {
      "display_name": "Python 3",
      "language": "python",
      "name": "python3"
    },
    "language_info": {
      "codemirror_mode": {
        "name": "ipython",
        "version": 3
      },
      "file_extension": ".py",
      "mimetype": "text/x-python",
      "name": "python",
      "nbconvert_exporter": "python",
      "pygments_lexer": "ipython3",
      "version": "3.7.7"
    },
    "colab": {
      "name": "04-Proabability.ipynb",
      "provenance": []
    }
  },
  "cells": [
    {
      "cell_type": "markdown",
      "metadata": {
        "id": "1EOOY-PwSalS"
      },
      "source": [
        "<a href=\"https://colab.research.google.com/github/shaneahmed/StatswithPython/blob/main/04-Proabability.ipynb\" target=\"_blank\"><img src=\"https://colab.research.google.com/assets/colab-badge.svg\" alt=\"Open In Colab\"/></a>\n",
        "\n",
        "<a href=\"https://kaggle.com/kernels/welcome?src=https://github.com/shaneahmed/StatswithPython/blob/main/04-Proabability.ipynb\" target=\"_blank\"><img src=\"https://kaggle.com/static/images/open-in-kaggle.svg\" alt=\"Open In Kaggle\"/></a>"
      ]
    },
    {
      "cell_type": "markdown",
      "metadata": {
        "id": "Jir7XqBjSala"
      },
      "source": [
        "# Probability\n",
        "\n",
        "### by Shan E Ahmed Raza\n",
        "---\n",
        "\n",
        "\n",
        "\n",
        "**Name: (Please write your name and ID here prior to submission)**\n",
        "\n",
        "\n",
        "\n",
        "---\n",
        "Credits to [Statistical Applications for the Behavioral and Social Sciences, 2nd Edition\n",
        "by K. Paul Nesselroade Jr, Laurence G. Grimm](https://www.wiley.com/en-us/Statistical+Applications+for+the+Behavioral+and+Social+Sciences%2C+2nd+Edition-p-9781119355397).\n",
        "\n",
        "As discussed in lecture slides probability can be defined as:\n",
        "\n",
        "\n",
        "\\begin{align}\n",
        "P = \\frac{𝑛𝑢𝑚𝑏𝑒𝑟\\ 𝑜𝑓\\ 𝑓𝑎𝑣𝑜𝑢𝑟𝑎𝑏𝑙𝑒\\ 𝑒𝑣𝑒𝑛𝑡𝑠}{𝑡𝑜𝑡𝑎𝑙\\ 𝑛𝑢𝑚𝑏𝑒𝑟\\ 𝑜𝑓\\ 𝑒𝑣𝑒𝑛𝑡𝑠}\n",
        "\\end{align}"
      ]
    },
    {
      "cell_type": "markdown",
      "metadata": {
        "id": "bEZmHYLYSalc"
      },
      "source": [
        "## Probability of a favorable event\n",
        "What is the probability of getting a spade with the draw of a single card from a deck of 52?"
      ]
    },
    {
      "cell_type": "code",
      "metadata": {
        "id": "GxmrNhizSalc",
        "outputId": "55f1c9ed-bb35-4487-d6f9-305bc2e7452c"
      },
      "source": [
        "# sample space\n",
        "total_number_of_cards = 52\n",
        "\n",
        "# favorable outcomes\n",
        "number_of_favorable_cards = 13\n",
        "\n",
        "P_heads = number_of_favorable_cards/total_number_of_cards\n",
        "print(P_heads)"
      ],
      "execution_count": null,
      "outputs": [
        {
          "output_type": "stream",
          "text": [
            "0.25\n"
          ],
          "name": "stdout"
        }
      ]
    },
    {
      "cell_type": "markdown",
      "metadata": {
        "id": "G8K4GgjrSale"
      },
      "source": [
        "## The Addition Rule\n",
        "### Mutually Exclusive Event\n",
        "Assume that we roll one die. What is the probability of coming up with a 2 or a 5?"
      ]
    },
    {
      "cell_type": "code",
      "metadata": {
        "id": "G1c5S9AiSalf",
        "outputId": "1d3c16fc-7a7b-430e-c1a7-5ef3f9547030"
      },
      "source": [
        "# event A (rolling a 2)\n",
        "# event B (rolling a 5)\n",
        "\n",
        "# sample space\n",
        "total_number_of_outcomes = 6\n",
        "\n",
        "# favorable outcomes event A\n",
        "number_of_favorable_outcomes_A = 1\n",
        "\n",
        "# favorable outcomes event B\n",
        "number_of_favorable_outcomes_B = 1\n",
        "\n",
        "P_A = number_of_favorable_outcomes_A/total_number_of_outcomes\n",
        "\n",
        "P_B = number_of_favorable_outcomes_B/total_number_of_outcomes\n",
        "\n",
        "P_A_or_B = P_A+P_B\n",
        "\n",
        "print(P_A_or_B)\n"
      ],
      "execution_count": null,
      "outputs": [
        {
          "output_type": "stream",
          "text": [
            "0.3333333333333333\n"
          ],
          "name": "stdout"
        }
      ]
    },
    {
      "cell_type": "markdown",
      "metadata": {
        "id": "EDf2zCuuSalf"
      },
      "source": [
        "### Not Mutually Exclusive Event\n",
        "Suppose we are about to win a game if we roll either an even number or a number greater than 4. What are our chances of winning?"
      ]
    },
    {
      "cell_type": "code",
      "metadata": {
        "id": "PCT3KDMdSalg",
        "outputId": "5ee1393e-8fa9-406a-ff8b-328f1d6929e2"
      },
      "source": [
        "# event A (even number)\n",
        "# event B (number greater than 4)\n",
        "\n",
        "# sample space\n",
        "S = {1,2,3,4,5,6}\n",
        "\n",
        "# favorable outcomes event A\n",
        "A = {2, 4, 6}\n",
        "\n",
        "# favorable outcomes event B\n",
        "B = {5, 6}\n",
        "\n",
        "P_A = len(A)/len(S)\n",
        "P_B = len(B)/len(S)\n",
        "\n",
        "AandB = A.intersection(B)\n",
        "\n",
        "P_AandB = len(A.intersection(B))/len(S)\n",
        "\n",
        "P = P_A + P_B - P_AandB\n",
        "print(P)\n"
      ],
      "execution_count": null,
      "outputs": [
        {
          "output_type": "stream",
          "text": [
            "0.6666666666666666\n"
          ],
          "name": "stdout"
        }
      ]
    },
    {
      "cell_type": "markdown",
      "metadata": {
        "id": "y6o8x6AqSalg"
      },
      "source": [
        "## The Multiplication Rule\n",
        "### Independent Events"
      ]
    },
    {
      "cell_type": "markdown",
      "metadata": {
        "id": "gS9qIilHSalh"
      },
      "source": [
        "What is the probability of getting both a heads on the coin flip and a 5 on the roll of the die?"
      ]
    },
    {
      "cell_type": "code",
      "metadata": {
        "id": "fNYEKaN7Salh",
        "outputId": "379ab191-ea9e-45ea-c701-72762b183b1f"
      },
      "source": [
        "P_A = 1/2 # A heads on the coin flip\n",
        "P_B = 1/6 # A 5 on the roll of the dice\n",
        "\n",
        "P = P_A * P_B # independent events\n",
        "print(P)"
      ],
      "execution_count": null,
      "outputs": [
        {
          "output_type": "stream",
          "text": [
            "0.08333333333333333\n"
          ],
          "name": "stdout"
        }
      ]
    },
    {
      "cell_type": "code",
      "metadata": {
        "id": "neTymZ_VSalh",
        "outputId": "da5de475-247b-4f4e-d12e-d249ce8968f3"
      },
      "source": [
        "1/12"
      ],
      "execution_count": null,
      "outputs": [
        {
          "output_type": "execute_result",
          "data": {
            "text/plain": [
              "0.08333333333333333"
            ]
          },
          "metadata": {
            "tags": []
          },
          "execution_count": 19
        }
      ]
    },
    {
      "cell_type": "markdown",
      "metadata": {
        "id": "6JkW7Ip-Sali"
      },
      "source": [
        "### Dependent Events\n",
        "What is the probability of randomly selecting a person from the campus student population that is both a psychology major and a biological female?\\\n",
        "**Given** Suppose it is known that 10% of the student population are psychology\n",
        "majors, 80% of the psychology majors are biological females, and 60% of the\n",
        "entire student population are biological females."
      ]
    },
    {
      "cell_type": "code",
      "metadata": {
        "id": "3_B_xVudSali",
        "outputId": "5b6a0a90-c158-4919-f2aa-3988f18f1edd"
      },
      "source": [
        "P_A = 0.6 # event A, the student is biological female\n",
        "P_B = 0.1 # event B, psycology major student\n",
        "P_AgivenB = 0.8 # probability of being biological female given the student is psycology major\n",
        "\n",
        "P_AandB = P_AgivenB*P_B\n",
        "print('{0:2.3f}'.format(P_AandB))"
      ],
      "execution_count": null,
      "outputs": [
        {
          "output_type": "stream",
          "text": [
            "0.080\n"
          ],
          "name": "stdout"
        }
      ]
    },
    {
      "cell_type": "markdown",
      "metadata": {
        "id": "PEgfhd6cSalj"
      },
      "source": [
        "## Conditional Probability\n",
        "Imagine an urn filled with balls. These balls have different colors and also have either an “X” or a “Y” on them. Let us further stipulate that each ball is equally likely to be drawn. Now suppose the urn we are working with has the following contents:\n",
        "\n",
        "| Type        | Number      |\n",
        "| ----------- | ----------- |\n",
        "| Red-X       | 20          |\n",
        "| Red-Y       | 20          |\n",
        "| Green-X     | 10          | \n",
        "| Green-Y     | 50          |\n",
        "\n",
        "\n",
        "Given the probabilistic situation above, what is the conditional probabilities P(Red|X)?"
      ]
    },
    {
      "cell_type": "code",
      "metadata": {
        "id": "b_DA_djRSalk",
        "outputId": "01d308a5-8bcf-4a51-c5dd-6c7c51c595de"
      },
      "source": [
        "# P(A|B) = P(A and B)/P(B)\n",
        "# P(Red|X) = P(Red and X)/P(X)\n",
        "\n",
        "P_X = 0.3 # given in table\n",
        "P_RedandX = 0.2 # given in table\n",
        "\n",
        "P_RedgivenX = P_RedandX/P_X\n",
        "print(P_RedgivenX)\n"
      ],
      "execution_count": null,
      "outputs": [
        {
          "output_type": "stream",
          "text": [
            "0.6666666666666667\n"
          ],
          "name": "stdout"
        }
      ]
    },
    {
      "cell_type": "markdown",
      "metadata": {
        "id": "OtIE_o5NSalk"
      },
      "source": [
        "## Bayes Theorem\n",
        "Imagine it is true that 1% of 40-year-old women who participate in a routine screening have breast cancer. Further imagine that 80% of women with breast cancer will receive a positive reading from the mammogram screen procedure. However, 9.6% of women without breast cancer will also receive a positive reading from the mammogram screening procedure (this is sometimes referred to as a “false positive” result). Now suppose a 40-year-old woman is told that her mammogram screening is positive for breast cancer. What is the likelihood that she actually has breast cancer?"
      ]
    },
    {
      "cell_type": "code",
      "metadata": {
        "id": "KsoD6ZI3Salk"
      },
      "source": [
        "P_B = 0.01 # probability of breast cancer in women who participate in screening\n",
        "P_AgivenB = 0.8 # probability of positive reading given breast cancer\n",
        "P_AnotB = 0.096 # probability of positive reading given no breast cancer\n",
        "P_notB = 1-P_B # probability of not B = 1 - probability of B, Axiom 2"
      ],
      "execution_count": null,
      "outputs": []
    },
    {
      "cell_type": "markdown",
      "metadata": {
        "id": "EsHaytfASall"
      },
      "source": [
        "\\begin{align}\n",
        "P(B|A) = \\frac{P(A|B)P(B)}{P(A|B)P(B)+P(A|notB)P(notB)}\n",
        "\\end{align}"
      ]
    },
    {
      "cell_type": "code",
      "metadata": {
        "id": "4HiIGCg4Sall",
        "outputId": "e315f43d-378e-4a19-f313-67d35e2381fd"
      },
      "source": [
        "# Probability of Breast cancer given positive reading\n",
        "P_BgivenA=(P_AgivenB*P_B)/(P_AgivenB*P_B+P_AnotB*P_notB) \n",
        "print(P_BgivenA)"
      ],
      "execution_count": null,
      "outputs": [
        {
          "output_type": "stream",
          "text": [
            "0.07763975155279504\n"
          ],
          "name": "stdout"
        }
      ]
    },
    {
      "cell_type": "markdown",
      "metadata": {
        "id": "Any9iJauSalm"
      },
      "source": [
        "## Exercise\n",
        "1. What is the probability of getting an ace with the draw of a single card from a deck of 52? What will be the probability if we include the two joker cards to the deck. [10] \n",
        "2. What is the probability of randomly selecting a 3, 7, or 9 from a deck of cards? [10]\n",
        "3. What is the probability of getting an ace or a spade with the draw of a single card from a deck of 52? Use the addition rule to solve this problem. [10]\n",
        "4. Suppose the probability of student `X` earning an A is 0.9 and the probability of student `Y` earning an A is 0.5. Assuming student `X` and `Y` have no interaction at all. What is the probability that both the students will get an A in this course? [10]\n",
        "5. Consider drawing two cards from a deck of 52 cards, without replacement (Without replacement means you do not place the first card back into the deck once removed). What is the probability that both cards will be black. [20]\n",
        "6. From the example provided above in conditional probability section. what are the following conditional probabilities? P(Red|Y), P(Green|X), and P(Green|Y)? [20]\n",
        "7. Let's suppose 2.5% of women have a genetic mutation which can cause breast cancer where a new test can correctly detect the mutation in 90% of the cases. It incorrectly identifies the mutation in 5% of the cases (false detection). If the test is positive for a person what is the probability that the person carries the genetic mutation? [20]"
      ]
    },
    {
      "cell_type": "code",
      "metadata": {
        "id": "G6kykj1sSalm"
      },
      "source": [
        ""
      ],
      "execution_count": null,
      "outputs": []
    }
  ]
}
